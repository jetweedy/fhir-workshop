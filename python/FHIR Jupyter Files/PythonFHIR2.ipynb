{
 "cells": [
  {
   "cell_type": "markdown",
   "metadata": {},
   "source": [
    "# Python FHIR Demo: Searching for Patients"
   ]
  },
  {
   "cell_type": "code",
   "execution_count": 17,
   "metadata": {
    "scrolled": true
   },
   "outputs": [],
   "source": [
    "### Install fhirclient module using sys.executable (the current python)\n",
    "#import sys\n",
    "#!{sys.executable} -m pip install --user jupyter fhirclient"
   ]
  },
  {
   "cell_type": "code",
   "execution_count": 18,
   "metadata": {},
   "outputs": [],
   "source": [
    "### Import required modules / models\n",
    "import json\n",
    "from fhirclient import client\n",
    "import fhirclient.models.patient as p"
   ]
  },
  {
   "cell_type": "code",
   "execution_count": 19,
   "metadata": {},
   "outputs": [],
   "source": [
    "### Define a few functions to display output nicely\n",
    "def pretty(js):\n",
    "    return json.dumps(js, indent=2)\n",
    "def prettyprint(x):\n",
    "    print(pretty(x))"
   ]
  },
  {
   "cell_type": "code",
   "execution_count": 20,
   "metadata": {},
   "outputs": [],
   "source": [
    "### Define some settings and set up a connection to a demo API\n",
    "settings = {\n",
    "    'app_id': 'my_web_app',\n",
    "    'api_base': 'https://r3.smarthealthit.org/'\n",
    "}\n",
    "smart = client.FHIRClient(settings=settings)\n",
    "prep = smart.prepare()"
   ]
  },
  {
   "cell_type": "code",
   "execution_count": 21,
   "metadata": {},
   "outputs": [],
   "source": [
    "### Run a search \n",
    "search = p.Patient.where({'name':'mark'})\n",
    "patients = search.perform_resources(smart.server)"
   ]
  },
  {
   "cell_type": "code",
   "execution_count": 22,
   "metadata": {},
   "outputs": [],
   "source": [
    "### Loop through our patients to create a list of items with only the info we want to serve up\n",
    "items = [];\n",
    "for patient in patients:\n",
    "    item = {}\n",
    "    item[\"firstname\"] = patient.name[0].given[0]\n",
    "    item[\"lastname\"] = patient.name[0].family\n",
    "    item[\"phone\"] = patient.telecom[0].value\n",
    "    items.append(item)"
   ]
  },
  {
   "cell_type": "code",
   "execution_count": 23,
   "metadata": {},
   "outputs": [],
   "source": [
    "### Convert our items to a JSON string to serve up\n",
    "json_string = json.dumps(items)"
   ]
  },
  {
   "cell_type": "code",
   "execution_count": 25,
   "metadata": {},
   "outputs": [
    {
     "name": "stdout",
     "output_type": "stream",
     "text": [
      "[\n",
      "  {\n",
      "    \"firstname\": \"Markus\",\n",
      "    \"lastname\": \"McGlynn\",\n",
      "    \"phone\": \"1-116-948-8712\"\n",
      "  },\n",
      "  {\n",
      "    \"firstname\": \"Virgilio\",\n",
      "    \"lastname\": \"Marks\",\n",
      "    \"phone\": \"1-831-856-9754\"\n",
      "  },\n",
      "  {\n",
      "    \"firstname\": \"Wendell\",\n",
      "    \"lastname\": \"Marks\",\n",
      "    \"phone\": \"619.075.9667\"\n",
      "  },\n",
      "  {\n",
      "    \"firstname\": \"Markus\",\n",
      "    \"lastname\": \"Gutmann\",\n",
      "    \"phone\": \"101.454.0730\"\n",
      "  },\n",
      "  {\n",
      "    \"firstname\": \"Donnie\",\n",
      "    \"lastname\": \"Marks\",\n",
      "    \"phone\": \"349.504.2293\"\n",
      "  }\n",
      "]\n"
     ]
    }
   ],
   "source": [
    "### Print the JSON:\n",
    "prettyprint(items)"
   ]
  },
  {
   "cell_type": "code",
   "execution_count": null,
   "metadata": {},
   "outputs": [],
   "source": []
  }
 ],
 "metadata": {
  "kernelspec": {
   "display_name": "Python 3",
   "language": "python",
   "name": "python3"
  },
  "language_info": {
   "codemirror_mode": {
    "name": "ipython",
    "version": 3
   },
   "file_extension": ".py",
   "mimetype": "text/x-python",
   "name": "python",
   "nbconvert_exporter": "python",
   "pygments_lexer": "ipython3",
   "version": "3.6.9"
  }
 },
 "nbformat": 4,
 "nbformat_minor": 2
}
