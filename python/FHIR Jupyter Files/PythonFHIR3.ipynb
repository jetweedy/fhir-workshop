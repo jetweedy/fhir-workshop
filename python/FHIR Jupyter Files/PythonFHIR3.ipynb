{
 "cells": [
  {
   "cell_type": "markdown",
   "metadata": {},
   "source": [
    "   # Python FHIR Demo: Searching for Patient Medications"
   ]
  },
  {
   "cell_type": "code",
   "execution_count": 1,
   "metadata": {
    "scrolled": true
   },
   "outputs": [],
   "source": [
    "### Install fhirclient module using sys.executable (the current python)\n",
    "#import sys\n",
    "#!{sys.executable} -m pip install --user jupyter fhirclient"
   ]
  },
  {
   "cell_type": "code",
   "execution_count": 2,
   "metadata": {},
   "outputs": [],
   "source": [
    "### Import required modules / models\n",
    "import json\n",
    "from fhirclient import client\n",
    "import fhirclient.server as s\n",
    "import fhirclient.models.patient as p\n",
    "import fhirclient.models.medicationstatement as ms\n",
    "from IPython.core.display import display, HTML, JSON"
   ]
  },
  {
   "cell_type": "code",
   "execution_count": 3,
   "metadata": {},
   "outputs": [],
   "source": [
    "### Define a few functions to display output nicely\n",
    "def pretty(js):\n",
    "    return json.dumps(js, indent=2)\n",
    "def prettyprint(x):\n",
    "    print(pretty(x))"
   ]
  },
  {
   "cell_type": "code",
   "execution_count": 4,
   "metadata": {},
   "outputs": [
    {
     "data": {
      "text/plain": [
       "True"
      ]
     },
     "execution_count": 4,
     "metadata": {},
     "output_type": "execute_result"
    }
   ],
   "source": [
    "### Set a few options to pass into the FHIRClient object instantiator\n",
    "settings = {\n",
    "    'app_id': 'my_web_app',\n",
    "    'api_base': 'https://vonk.fire.ly/'\n",
    "#    'api_base': 'https://r3.smarthealthit.org/'\n",
    "}\n",
    "### Create an instanct of the fhirclient engine\n",
    "smart = client.FHIRClient(settings=settings)\n",
    "### This will do a pre-check to see if any auth is necessary (it's not for this one, so expect 'True')\n",
    "smart.prepare()\n"
   ]
  },
  {
   "cell_type": "code",
   "execution_count": 5,
   "metadata": {},
   "outputs": [],
   "source": [
    "###Set the patient id ('pat1' is 'Donald Duck', who we know to have some meds in the demo system)\n",
    "#pid = '296769f2-5fe9-4997-a521-82c5eb090311'\n",
    "pid = 'pat2-Fhir3.0'"
   ]
  },
  {
   "cell_type": "code",
   "execution_count": 6,
   "metadata": {},
   "outputs": [],
   "source": [
    "### Grab our patient directly using the 'read' method on the Patient model and passing in the unique id)\n",
    "patient = p.Patient.read(pid, smart.server)\n",
    "### Output the data that comes back (requires knowledge of the structure)\n",
    "output = \"<h2>\" + pid + \"</h2><p>\" + patient.name[0].given[0] + \" \" + patient.name[0].family + \"</p>\"\n",
    "\n",
    "search = ms.MedicationStatement.where({'patient':pid});\n",
    "meds = search.perform_resources(smart.server)\n",
    "medslist = {}\n",
    "serializablemedarray = []\n",
    "for med in meds:\n",
    "    serializablemedarray.append(med.as_json());\n",
    "    mlkey = False;\n",
    "    # Try to get an existent 'mlkey' with name of medicine from varying structures\n",
    "    try:\n",
    "        mlkey = med.medicationCodeableConcept.text\n",
    "    except:\n",
    "        mlKey = False\n",
    "    try:\n",
    "        mlkey = med.contained[0].code.coding[0].display\n",
    "    except:\n",
    "        mlKey = False\n",
    "    try:\n",
    "        mlkey = med.medicationCodeableConcept.coding[0].display\n",
    "    except:\n",
    "        mlKey = False\n",
    "    # If the med key was found AND it's not already in our list\n",
    "    if (mlkey is not False) or (mlkey in medslist):\n",
    "        pass\n",
    "    else:\n",
    "        medslist[mlkey] = {}\n",
    "        medslist[mlkey]['name'] = mlkey\n",
    "output = output + \"<h4>Medications</h4><ul>\";\n",
    "for m in medslist:\n",
    "    output = output + \"<li>\" + medslist[m]['name'] + \"</li>\" \n",
    "output = output + \"</ul>\";"
   ]
  },
  {
   "cell_type": "code",
   "execution_count": 7,
   "metadata": {},
   "outputs": [
    {
     "name": "stdout",
     "output_type": "stream",
     "text": [
      "{\n",
      "  \"id\": \"pat2-Fhir3.0\",\n",
      "  \"meta\": {\n",
      "    \"lastUpdated\": \"2020-10-29T13:14:50.639+00:00\",\n",
      "    \"versionId\": \"1742b699-f152-42ef-8a00-be6fbf7b75bf\"\n",
      "  },\n",
      "  \"text\": {\n",
      "    \"div\": \"<div xmlns=\\\"http://www.w3.org/1999/xhtml\\\">\\n      \\n      <p>Patient Donald D DUCK @ Acme Healthcare, Inc. MR = 123456</p>\\n    \\n    </div>\",\n",
      "    \"status\": \"generated\"\n",
      "  },\n",
      "  \"active\": true,\n",
      "  \"gender\": \"other\",\n",
      "  \"identifier\": [\n",
      "    {\n",
      "      \"system\": \"urn:oid:0.1.2.3.4.5.6.7\",\n",
      "      \"type\": {\n",
      "        \"coding\": [\n",
      "          {\n",
      "            \"code\": \"MR\",\n",
      "            \"system\": \"http://hl7.org/fhir/v2/0203\"\n",
      "          }\n",
      "        ]\n",
      "      },\n",
      "      \"use\": \"usual\",\n",
      "      \"value\": \"123456\"\n",
      "    }\n",
      "  ],\n",
      "  \"link\": [\n",
      "    {\n",
      "      \"other\": {\n",
      "        \"reference\": \"https://vonk.fire.ly/Patient/pat1\"\n",
      "      },\n",
      "      \"type\": \"seealso\"\n",
      "    }\n",
      "  ],\n",
      "  \"managingOrganization\": {\n",
      "    \"display\": \"ACME Healthcare, Inc\",\n",
      "    \"reference\": \"https://vonk.fire.ly/Organization/1\"\n",
      "  },\n",
      "  \"name\": [\n",
      "    {\n",
      "      \"family\": \"Donald\",\n",
      "      \"given\": [\n",
      "        \"Duck\",\n",
      "        \"D\"\n",
      "      ],\n",
      "      \"use\": \"official\"\n",
      "    }\n",
      "  ],\n",
      "  \"photo\": [\n",
      "    {\n",
      "      \"contentType\": \"image/gif\",\n",
      "      \"data\": \"R0lGODlhEwARAPcAAAAAAAAA/+9aAO+1AP/WAP/eAP/eCP/eEP/eGP/nAP/nCP/nEP/nIf/nKf/nUv/nWv/vAP/vCP/vEP/vGP/vIf/vKf/vMf/vOf/vWv/vY//             va//vjP/3c//3lP/3nP//tf//vf////////////////////////////////////////////////////////////////////////////////////////////////             ///////////////////////////////////////////////////////////////////////////////////////////////////////////////////////////             ///////////////////////////////////////////////////////////////////////////////////////////////////////////////////////////             ///////////////////////////////////////////////////////////////////////////////////////////////////////////////////////////             ///////////////////////////////////////////////////////////////////////////////////////////////////////////////////////////             ///////////////////////////////////////////////////////////////////////////////////////////////////////////////////////////             ///////////////////////////////////////////////////////////////////////////////////////////////////////////////////////////             /////////////////////////////////////////////////////////yH5BAEAAAEALAAAAAATABEAAAi+AAMIDDCgYMGBCBMSvMCQ4QCFCQcwDBGCA4cLDyE             GECDxAoAQHjxwyKhQAMeGIUOSJJjRpIAGDS5wCDly4AALFlYOgHlBwwOSNydM0AmzwYGjBi8IHWoTgQYORg8QIGDAwAKhESI8HIDgwQaRDI1WXXAhK9MBBzZ8/X             DxQoUFZC9IiCBh6wEHGz6IbNuwQoSpWxEgyLCXL8O/gAnylNlW6AUEBRIL7Og3KwQIiCXb9HsZQoIEUzUjNEiaNMKAAAA7\"\n",
      "    }\n",
      "  ],\n",
      "  \"resourceType\": \"Patient\"\n",
      "}\n"
     ]
    }
   ],
   "source": [
    "## Output the json for the patient that we queried\n",
    "print(json.dumps(patient.as_json(), indent=2))"
   ]
  },
  {
   "cell_type": "code",
   "execution_count": 8,
   "metadata": {},
   "outputs": [
    {
     "name": "stdout",
     "output_type": "stream",
     "text": [
      "[]\n"
     ]
    }
   ],
   "source": [
    "## Output the json for the med array that we've been compiling\n",
    "print(json.dumps(serializablemedarray, indent=2))"
   ]
  },
  {
   "cell_type": "code",
   "execution_count": 9,
   "metadata": {},
   "outputs": [],
   "source": [
    "## Display some neatly formatted HTML using all that data instead\n",
    "#display(HTML(output))"
   ]
  },
  {
   "cell_type": "code",
   "execution_count": 10,
   "metadata": {},
   "outputs": [],
   "source": [
    "## Create an object that has both the patient and medication data in it\n",
    "mypatient = {}\n",
    "mypatient[\"firstname\"] = patient.name[0].given[0]\n",
    "mypatient[\"lastname\"] = patient.name[0].family\n",
    "mypatient[\"medications\"] = medslist"
   ]
  },
  {
   "cell_type": "code",
   "execution_count": 11,
   "metadata": {},
   "outputs": [
    {
     "name": "stdout",
     "output_type": "stream",
     "text": [
      "{\n",
      "  \"firstname\": \"Duck\",\n",
      "  \"lastname\": \"Donald\",\n",
      "  \"medications\": {}\n",
      "}\n"
     ]
    }
   ],
   "source": [
    "## Print out one big JSON object to use in our jsFiddle\n",
    "print(json.dumps(mypatient, indent=2))"
   ]
  }
 ],
 "metadata": {
  "kernelspec": {
   "display_name": "Python 3",
   "language": "python",
   "name": "python3"
  },
  "language_info": {
   "codemirror_mode": {
    "name": "ipython",
    "version": 3
   },
   "file_extension": ".py",
   "mimetype": "text/x-python",
   "name": "python",
   "nbconvert_exporter": "python",
   "pygments_lexer": "ipython3",
   "version": "3.6.9"
  }
 },
 "nbformat": 4,
 "nbformat_minor": 2
}
