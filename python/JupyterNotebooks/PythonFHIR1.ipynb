{
 "cells": [
  {
   "cell_type": "markdown",
   "metadata": {},
   "source": [
    "# Python FHIR Demo: Searching for Patients"
   ]
  },
  {
   "cell_type": "code",
   "execution_count": 1,
   "metadata": {
    "scrolled": true
   },
   "outputs": [],
   "source": [
    "### Install fhirclient module using sys.executable (the current python)\n",
    "#import sys\n",
    "#!{sys.executable} -m pip install --user jupyter fhirclient"
   ]
  },
  {
   "cell_type": "code",
   "execution_count": 2,
   "metadata": {},
   "outputs": [],
   "source": [
    "### Import required modules / models\n",
    "import json\n",
    "from fhirclient import client\n",
    "import fhirclient.models.patient as p"
   ]
  },
  {
   "cell_type": "code",
   "execution_count": 3,
   "metadata": {},
   "outputs": [],
   "source": [
    "### Define a few functions to display output nicely\n",
    "def pretty(js):\n",
    "    return json.dumps(js, indent=2)\n",
    "def prettyprint(x):\n",
    "    print(pretty(x))"
   ]
  },
  {
   "cell_type": "code",
   "execution_count": 4,
   "metadata": {},
   "outputs": [],
   "source": [
    "### Define some settings and set up a connection to a demo API\n",
    "settings = {\n",
    "    'app_id': 'my_web_app',\n",
    "    'api_base': 'https://r3.smarthealthit.org/'\n",
    "#    'api_base': 'https://vonk.fire.ly/'\n",
    "}\n",
    "smart = client.FHIRClient(settings=settings)\n",
    "prep = smart.prepare()"
   ]
  },
  {
   "cell_type": "code",
   "execution_count": null,
   "metadata": {},
   "outputs": [],
   "source": [
    "### Run a search \n",
    "search = p.Patient.where({'name':'Smith'})\n",
    "patients = search.perform_resources(smart.server)"
   ]
  },
  {
   "cell_type": "code",
   "execution_count": null,
   "metadata": {},
   "outputs": [],
   "source": [
    "### Create a serializable array of the patients\n",
    "serializablepatientarray = []\n",
    "for patient in patients:\n",
    "    serializablepatientarray.append(patient.as_json());"
   ]
  },
  {
   "cell_type": "code",
   "execution_count": null,
   "metadata": {
    "scrolled": false
   },
   "outputs": [],
   "source": [
    "### Print the JSON:\n",
    "prettyprint(serializablepatientarray)"
   ]
  },
  {
   "cell_type": "code",
   "execution_count": null,
   "metadata": {},
   "outputs": [],
   "source": []
  },
  {
   "cell_type": "code",
   "execution_count": null,
   "metadata": {},
   "outputs": [],
   "source": []
  },
  {
   "cell_type": "code",
   "execution_count": null,
   "metadata": {},
   "outputs": [],
   "source": []
  }
 ],
 "metadata": {
  "kernelspec": {
   "display_name": "Python 3",
   "language": "python",
   "name": "python3"
  },
  "language_info": {
   "codemirror_mode": {
    "name": "ipython",
    "version": 3
   },
   "file_extension": ".py",
   "mimetype": "text/x-python",
   "name": "python",
   "nbconvert_exporter": "python",
   "pygments_lexer": "ipython3",
   "version": "3.6.9"
  }
 },
 "nbformat": 4,
 "nbformat_minor": 2
}
