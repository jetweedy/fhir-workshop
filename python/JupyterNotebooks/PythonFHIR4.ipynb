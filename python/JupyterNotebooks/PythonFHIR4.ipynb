{
 "cells": [
  {
   "cell_type": "markdown",
   "metadata": {},
   "source": [
    "   # Python FHIR Demo: Saving data to a server"
   ]
  },
  {
   "cell_type": "code",
   "execution_count": 1,
   "metadata": {
    "scrolled": true
   },
   "outputs": [],
   "source": [
    "### Install fhirclient module using sys.executable (the current python)\n",
    "#import sys\n",
    "#!{sys.executable} -m pip install --user jupyter fhirclient"
   ]
  },
  {
   "cell_type": "code",
   "execution_count": 2,
   "metadata": {},
   "outputs": [],
   "source": [
    "### Import required modules / models\n",
    "import json\n",
    "from fhirclient import client\n",
    "import fhirclient.server as s\n",
    "import fhirclient.models.patient as p\n",
    "import fhirclient.models.humanname as hn\n",
    "import fhirclient.models.medicationstatement as ms\n",
    "from IPython.core.display import display, HTML, JSON"
   ]
  },
  {
   "cell_type": "code",
   "execution_count": 3,
   "metadata": {},
   "outputs": [],
   "source": [
    "### Define a few functions to display output nicely\n",
    "def pretty(js):\n",
    "    return json.dumps(js, indent=2)\n",
    "def prettyprint(x):\n",
    "    print(pretty(x))"
   ]
  },
  {
   "cell_type": "code",
   "execution_count": 4,
   "metadata": {},
   "outputs": [],
   "source": [
    "### Set a few options to pass into the FHIRClient object instantiator\n",
    "settings = {\n",
    "    'app_id': 'my_web_app',\n",
    "    #'api_base': 'https://vonk.fire.ly/'\t\n",
    "    'api_base': 'https://r3.smarthealthit.org/'\n",
    "}\n",
    "### Create an instanct of the fhirclient engine\n",
    "smart = client.FHIRClient(settings=settings)\n",
    "### This will do a pre-check to see if any auth is necessary (it's not for this one, so expect 'True')\n",
    "smart.prepare()\n",
    "myserver = s.FHIRServer(client, base_uri=\"https://r3.smarthealthit.org/\")"
   ]
  },
  {
   "cell_type": "code",
   "execution_count": 12,
   "metadata": {},
   "outputs": [
    {
     "data": {
      "text/plain": [
       "<Response [201]>"
      ]
     },
     "execution_count": 12,
     "metadata": {},
     "output_type": "execute_result"
    }
   ],
   "source": [
    "pat = p.Patient()\n",
    "name = hn.HumanName()\n",
    "name.given = [\"Samuel\"]\n",
    "name.family = \"Fitchbasket\" # <-- put a new last name here!\n",
    "pat.name = [name]\n",
    "myserver.post_json(\"/Patient\",pat.as_json()) "
   ]
  },
  {
   "cell_type": "code",
   "execution_count": 19,
   "metadata": {},
   "outputs": [
    {
     "name": "stdout",
     "output_type": "stream",
     "text": [
      "{\n",
      "  \"id\": \"235262\",\n",
      "  \"meta\": {\n",
      "    \"lastUpdated\": \"2020-11-11T10:56:39.579-05:00\",\n",
      "    \"versionId\": \"1\"\n",
      "  },\n",
      "  \"name\": [\n",
      "    {\n",
      "      \"family\": \"Fitchbasket\",\n",
      "      \"given\": [\n",
      "        \"Samuel\"\n",
      "      ]\n",
      "    }\n",
      "  ],\n",
      "  \"resourceType\": \"Patient\"\n",
      "}\n"
     ]
    }
   ],
   "source": [
    "search = p.Patient.where({'name':'Fitchbasket'}) # <-- search for your new last name here!\n",
    "patients = search.perform_resources(smart.server)\n",
    "for patient in patients:\n",
    "    prettyprint(patient.as_json())\n"
   ]
  },
  {
   "cell_type": "code",
   "execution_count": 18,
   "metadata": {},
   "outputs": [
    {
     "name": "stdout",
     "output_type": "stream",
     "text": [
      "{\n",
      "  \"id\": \"235261\",\n",
      "  \"meta\": {\n",
      "    \"lastUpdated\": \"2020-11-11T10:58:21.897-05:00\",\n",
      "    \"versionId\": \"2\"\n",
      "  },\n",
      "  \"name\": [\n",
      "    {\n",
      "      \"family\": \"Jones\",\n",
      "      \"given\": [\n",
      "        \"Harold\"\n",
      "      ]\n",
      "    }\n",
      "  ],\n",
      "  \"resourceType\": \"Patient\"\n",
      "}\n"
     ]
    }
   ],
   "source": [
    "patient = p.Patient.read('235261', smart.server)\n",
    "prettyprint(patient.as_json())"
   ]
  },
  {
   "cell_type": "code",
   "execution_count": 17,
   "metadata": {},
   "outputs": [
    {
     "data": {
      "text/plain": [
       "<Response [200]>"
      ]
     },
     "execution_count": 17,
     "metadata": {},
     "output_type": "execute_result"
    }
   ],
   "source": [
    "patient.name[0].family = \"Jones\"\n",
    "myserver.put_json(\"/Patient/235261\"\n",
    "                  , patient.as_json())"
   ]
  },
  {
   "cell_type": "code",
   "execution_count": null,
   "metadata": {},
   "outputs": [],
   "source": [
    "myserver.delete_json(\"/Patient/235258\") # <-- replace with an ID from above"
   ]
  }
 ],
 "metadata": {
  "kernelspec": {
   "display_name": "Python 3",
   "language": "python",
   "name": "python3"
  },
  "language_info": {
   "codemirror_mode": {
    "name": "ipython",
    "version": 3
   },
   "file_extension": ".py",
   "mimetype": "text/x-python",
   "name": "python",
   "nbconvert_exporter": "python",
   "pygments_lexer": "ipython3",
   "version": "3.6.9"
  }
 },
 "nbformat": 4,
 "nbformat_minor": 2
}
